{
  "nbformat": 4,
  "nbformat_minor": 0,
  "metadata": {
    "colab": {
      "provenance": []
    },
    "kernelspec": {
      "name": "python3",
      "display_name": "Python 3"
    },
    "language_info": {
      "name": "python"
    }
  },
  "cells": [
    {
      "cell_type": "markdown",
      "source": [
        "# Analyzing Retail Sales with Python and SQL"
      ],
      "metadata": {
        "id": "dxvPjbfsoHnu"
      }
    },
    {
      "cell_type": "markdown",
      "source": [
        "We have a simple dataset that features information about orders (product category, date of order, price per unit) and customers (gender, age, etc.).  \n",
        "\n",
        "We can use this to demonstrate some basic analysis for sales data.\n",
        "\n",
        "Here are all the columns:\n",
        "\n",
        "\n",
        "*   Transaction_ID - the id for a transaction, numerical\n",
        "*   date_ - the date of the transaction\n",
        "*   Customer_ID\n",
        "*   Gender - gender of customer\n",
        "*   Age - age of customer\n",
        "*   Product_Category - category the product belongs to (3 categories)\n",
        "*   Quantity - how much of the product was purchased in the transaction\n",
        "*   Price_per_unit - price per unit of product\n",
        "*   Total_Amount - price of overall transaction\n"
      ],
      "metadata": {
        "id": "60P5Uh3noP-0"
      }
    },
    {
      "cell_type": "markdown",
      "source": [
        "We went into MySQL and queried the table to gather some quick insights.\n",
        "\n"
      ],
      "metadata": {
        "id": "kouTeYeXogbE"
      }
    },
    {
      "cell_type": "markdown",
      "source": [
        "![image.png](data:image/png;base64,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)\n",
        "![total rev by month.png](data:image/png;base64,iVBORw0KGgoAAAANSUhEUgAAAO0AAAD2CAYAAAA6XADXAAAAAXNSR0IArs4c6QAAAARnQU1BAACxjwv8YQUAAAAJcEhZcwAADsMAAA7DAcdvqGQAABn/SURBVHhe7Z3NjxvF1sZPLgIJ8V4k7suKPcrEHmUHC9ixfzWKbuyweYMUsYVlUFjE4yyIkj8iglmBjTSaNWuyyN1FtjNhgdiAxCIgvhEIfOtUV3dXd9dpV3vsblf380NN3OVTZeucPl0f4+rn3A8//LB8/vnnaVt89NFH9NZbb5kzsKt888039NJLL5kzsGk26d9/mH8BAIGApAUgMJC0AARGu5N2fkj9/iHNzSnYERCXM9G+pMUFsR18/boJ/3Mb587RueTo0yECmoDhMdhNeiOaLZe05GM2oOn+kKbmra7TbNLqu/KQhv3ojjqczukweW3ZJHdcEzhzNz8cxuWxvao/HNNiMaZ9VdYfL7iQpgU7UI2cX7nbc8XFYTc/7Ce+X7vH7Pepb15qMp9t2tRldmJPaWhfLy571zVkypOvaZ+72mkC/jvtNvnwww/NKwez0bJHveVI3VKXk8FS3V7T173RcracLAdEy8FEWyvz3pL4RNdLy1N7Bb9nv5bsQIavv/7avBKw/SrFJTqx7HKw/+P4lcUh/34mbvzZA/V/g2U7GeRirU8Ee/7XdW3kPzs5lz/Xh5X+rUDzw+OecgXfRnsqfe3X/N5c3anVMGmkrhCmPxhQbzqN7p5WeWLvwtcO+FMWlzx278RdGdc1b5Viemtd77BHM26Hy3V97kXNe/vcsy+Ix1QD9T2m6nswUzVqG/EXLLGvdG2UtVMzmNOC7cGJtj+lwSyem478b5oqoVQvFtXJJ0f8XnJMSOfeQCXhnG8e6r+56QAYyb4qm2rnjOx20vJcRt1xx+YWPld30YW6m650VEN3wNYT+3VVXGz/x6MnhbaLXvrD88kJpfPT3Gdn6aveVvWHqkefq++jP7bUXsD6/sl3XqedLbHjPe2AJupOOzeLBfvjPk3UxKUUXlwYRMOYeCEKbADbr2q4KsbFtpsO6LCfDnOHi/5605PBhGajuWqTF3+y14Q+4oUiBQ/VVWdLh4dxN1tuX0C9N9GfFdmm37liO1sEGwaABhsGtgs2DICWYC3sZI4G/5wSAEha0CBqyJlZ2IkP/nu9MQEFkLQABAaSFoDAOMe/WDKvAQBbZFMLslg9BiAwMDwGIDCQtAAEBpIWgMBwJu1vv/1Gv//+O/3999+mBACwK4g97TvvvEPfffcd/fXXX6ZkQ2Q2EpsN1Rr71zHWZmYve3WIu9uFdhPU+w39hnS3kfybK3f8ekk/dCDxqWS/Ki4xkp1v/fYhJu2XX35JN27coO+//36zibtYUH8S//JlQv3xUAdxOhwSmXL94/D4IhHsifdNJuUzGqnkzl88jNiuInqqQrcC7k2pf+1fMmV/vcQJe6jez24MKNqXxcVGsvOt30ZK57ScuO+++y6dnp7Sn3/+aUrPyGBC6UYd3vjO/07VNTKgQbxRRL3oxZulnfaKTPlC5Xafd0/lKGmXz9VVWGmPZ5fw8m8Wvgke9mY0H63yaHlcUiQ73/rtZOVC1Lfffqt73C+++IL++OMPU7oh9IZl5fz8xaD3Llp7MmMK9nzX5uGRKvXZkCy1CwQk/6ZD03i6wgk7pIn+t0jRPoNvXCS7jsV1ZdIyv/zyi07cH3/8cXM9LgeSn2owMY8RWYnLnudHPEQa0NTMlewHiTkvEFCBon+zQ914uqL6vqlKmvF+5Hv9KJYx7et5rcteNw7WxCtpn3vuObp9+zbxL6eefvppU3oW+M57SL2ZsJuDhzqZZ/assOfed6AuGnWr1UNec5EU7vqFdoEfqX+zxNOVOLnNwVMOfjQLLyJquxhremPjGxfJrmNxXZm0ccK+/PLL9Mwzz5jSM6BXg/MJyBcFz1OiM/2IDx7y6BOXPRfbd2yu67ogStoFpYj+nQ7Tx9DydGXVXNdpvyre8eKgZNfxuLoeofrrr78u33jjjeXbb7+9/Oqrr5ZqSGzeqU7+Ear6cZtEmaMXPTdVDcLisvRRlaI9P/LSKksehVnA3S6Tb1tuo4NI/jWPHi31mf14UdFeiIu2t+MkxU+Oa9txbhjgH1fwqjH3sC+88AI99dRT5p3qYMMAAJtFHB5vImEBAJvHmbTPPvssvfjii0hYAHYQPTz++eefzenm+eyzzzA8BmCD1LIJ/v/+/f/mDOwq//qff9B3P2ODyLZg/26KzbUEAKgFJC0AgYGkBSAwkLQABEb9SftoTK/98yn6X3O89kH8W7kpXUvKr9CJKfWzV8fV+Ldyeaq2C/KcXFU+emVMp+Y8Jlsu+Jk5vuLwc4l9BsnOt377qD9pTxe0d/QXPfmJj49p7/YVuvOIL4A3iUz55zfmdC1OQsGejj9N7J/89JCuqyTU5TkqtwsycGLeoct03pzH5MtFP3PCXiW6p/38F91/P/qFsGifQ7Lzrd9G6k/aS5/QvUvmNfXo/B7/O6WT48t0YMr3Lg3o/KNFdAd32isy5Qt6fNqnvQvmNGGNdkHC6Qf7dGfvId2/kd2JUSyX/XxyPKfrDz6hg+gtQ0lcMkh2vvXbSbNz2kefqmHNgA7yyXahR3uqJ3xsThMK9nO68woPjz6lg5/yF4YD73YBJ+Y1+iTpGWOk8gyJnzm5HtHdV+Nh7FN07djY2EhxySPZ+dZvCQ0mrZqTvDqlg6MR+XVyLvs+vfcfHiJdppN/qru/Gt7yRRVfIK994PMsg6rfowvMdbI9vn0x8uWrt9RI5ha9/soVuussL853Uy4nQ+MnD27S6dVuzT+3QUNJy4sIYzr/YEbvuXo3HursqSGrOV1pz73kJXUxqStn7/1ZdIGo4/772WFd9Xa7SnwzTJPt/N5N+vw/akrhLM/d8Ap+NlxQQ9q9OZ3m1w4k+zySnW/9llB/0upV23yicNKpIaoZOp0eT+kxD3n4xGnPPaq9cMTDsAuOeWn1dsE6SH6Oyu/EK8Y8DdFrD6viEvfG5e0663eA2pNWO5iy8xz+M8DB0cdE/CcEdf767T7dOxqU2vOiU1rGK4nu5KvaLlgPyc8HRw/p4DgeTqtpiFmUkuzzyO361W8j2DAANNgwsF2wYQCADoOkBSAwsAkegMCoZU6LpAVgc2B4DEBgIGkBCAwkLQCBgaQFIDDqT1qt1RKp2vGRKtulcogZoWcve3WIosJCu971O4rk90x5rKTH+PjZpzzPWeu3j/qTdrEjSvCe9TuL0+9zOlT+G8xM+aRP4yHLWbI4WupnZU7Dfll5SVxyQAm+SP1JuytK8GsonXcKye82qjAqZv+lfuYXA5X0+j9neUlcMkh2vvXbSbNz2saV4CvW7yqJ33k4fEiLfTMszYh8q6RJsoaTPD6Xyi2keOeR7Hzrt4QGk1bNSRpXgi/WB3myfk+HpWpK0VvQeMzD0gFNZsqHcTKf26ex0aF1l+uGwZo0lLS8iLBLSvBpfWCT87ue949opIckfJOz1gJ4rmr8vtRK8MbPUrmNGJcckp1v/bbAP2PcJnlR6Ug0uLfUOtIWav6UCA5rsef0xGk/Gw2sMhYYLtowUru+9TuL0++RkHMiDF0QgGZmy1EvFgq3yZaXxzttU7IT63eA2pNWOzhR8I6ORpTgvet3E9HvOqniMiupLX9mElYql+JSuBEIdmJ5+8GGAQACo9nVYwBAZZC0AAQGNsEDEBh4sBvQ4MFu2wUPdgOgwyBpAQgMJC0AgYGkBSAw6k9ardUSyTnwsVIZ3MteHaKosNCuhaR03m0k/wrlmThFCoaMrWKYrbM6LhGSnW/99lF/0p7uiBK8QVI67zySf53lc7qj/HrwwJQf9enu1egmaKsY8sFC3uf3et5K7lCCL1J/0u6KEryiqGgOEiT/+vhdkp3kBFfxeO/9RWlcUqT4lce17TQ7p21QCd5L0bzzSP7Nl7Oe7YgexwqEgkj3ye1bRDduFuMkxTuPZOdbvyU0mLRqTtKYErykdI55bZaifyOK5elwVQ2Z9x7R3du54WrSy+ImeVYaSlpeRCgRdOahTmaItcKee99KSvCS0rnvDaRrpP7NYsqPeV57k67r4Sr7trjGIPayTCHeApKdb/2WUH/SqmDuhBI8KEXyr7P8Eg9Pb9Fd4+dU8T0+z/eyq+IdrwZLdt2Oa+1Jqx28A0rwoBzJv+7yAd1To5VT42db8V3Pf68We1kowa8PNgwADTYMbBdsGACgwyBpAQgMbIIHIDDwYDcAAgPDYwACA0kLQGAgaQEIDCQtAIFRf9LObSXxHVKCh2peDsk/q/yu3u9HwtERPu1ACb4K9SftYkeU4DUD9VbchqTI12Uc/inxeyQz6kqgYju+Su6SnW/9NlJ/0u6KEjxYjxK/a5lRlrOMTkvwjYtk1+24NjunbVwJPh1irRag7iKSfyr6fZWfpXjnkex867eEBpNWBbJRJXh7yGYNu4GhzD9Fv8vAz5umoaTlO+8uKcFbw27gQPJP6nc/hHbEuOSQ7Hzrt4T6k1avBucTkIPP85TobK5eLHjIo09c9lxs37G5ruuCKGl3OqRk7YKH3c45cYcR/OPndwtnO6viHS9mSXYl9bsA//Z4m+ysEnxG0RxK8AUk/5T4PR8r/Z7oZyjBrws2DAAQGM2uHgMAKoOkBSAwsAkegMDAg92ABg922y54sBsAHQZJC0BgIGkBCAwkLQCBUX/Saq0WIx+hjkaV4I+vJPXTdkFEiX8dfpMV32NUexlVwlz7GVU+Gyl+JXFtOfUn7emOKMHzhXeV6J6uzwp7+OFxBlEJ3u03SfGdiRL6TUdiXU7aefKTW4sJSvBF6k/aHVGCPzme0/VEJAoUEPzr5TdOcEslTyc0y4nqsypI8Su5XjpAs3PaxpTgOehZJb5rsUwjsMj7189vpVq0GT5Nhrhe0xPpupDKW0qDSavmJI0pwTPW0EzLNHZrXuSHSwl+hd9yvazMwBoaW9MesJKGkpYXEZpUgs9xQQ219uZ0iotGIPVvBoff/HtZG2vaU4YUP6m8pdSftHo1uGkl+Kj8TjwkyyuXA8G/K/zm3csqjq+kQ2u7HR3vuPcujx+U4GtCUnavWwn+4OghHRxfjOpnlMsBI/lX9ptb8Z3RU5ZXb6me+ha9rurpZFU9Y6ocf4v2jtz+hxJ8EWwYABpsGNgu2DAAQIdB0gIQGNgED0Bg4MFuAAQGhscABAaSFoDAQNICEBhIWgACo/6k1VotkaodH6myXSqHmBEm9rJXhygq7G7XVtdb3UYXkfybK3eo5k2HqtxWg58OE3sxfqL6njt+cnn7qT9pF7uhBG+r6/HBQsm9UiWpjlHqX4dCvIET9lC9n3iSE1aHILLPKhnK7cRACb5I/Um7i0rwfEEqu0PXVdNVvPybhRPysDej+Si9+U2ncxrNfISnXUjx84xrS2l2Ttu4EnzEdDwmGo3WvLDajOTfdGgaD3c5YYc0yfWknFwLGu/Hw9hzqeylpthOKdJ1IZW3lAaTVgWsUSV4A3rZEor+zQ5p4+mK6vtUci7G+5Hv98eqZx7Tvp7XWvazEc3VsDbKWyjEr0tDSct32N1Qgkcv60Pq3yzxdCVObnOo5Oz1RjTjRURtZ2Ax6Z6KQSE5rWlPGY74aaTytsI/Y9wmeVHpSDS4t9Q60hZq/pQIDmtx4vTEaT8bDawyFhgu2jBiu0xBwBjEiP6dDFJhaMl/XN4bLSPzWDTclMf2Uju5NqX4lca15XRXCV5dUqOedUGBLJJ/dVI5ym2spI39HNlbN1apnVzSyvGTytsPNgwAEBjNrh4DACqDpAUgMLAJHoDAwIPdgAYPdtsueLAbAB0GSQtAYCBpAQgMJC0AgVF/0mqtFiMHoY5U4lBQ9vayV4coKuzTrqRC3mVK/OtU0Bf8zFS1zyDZ+dZvH/UnraDsXq8SPOvOsA6NqX/Up7tXx50RJfaikhI869imfn5yRHTtFeNPQTneV8kdSvBF6k/aHVGCz9AhmURvKinB8/upn+mSem1Ent32nnER7Xzrt5Nm57SNKcGzWPKIHseqcJXErbtEFSV4W6eWb658XmZvIcU7j2TnW78lNJi0ak7SoBJ8OrxSQ789dWHd7s7wyh9fJfgB3XswoJMkOS/S3WTkA8X9TdNQ0vIiQoNK8Hp+dpOu6+EVX5jynBgwqX8z2ErwF0Z030rO864ph6S4X4i3gGTnW78l1J+0etW2YSV4PZy6RXfjoRqU4AuspQSvMeLSal4rK+6vinfcG0t2JfW7QB2b4NXdNzk+v3HBbFxOj/M3Hqr3Pl6qOakpu7xUQ6py+6PLmbKDo/Qzsoe7XdUbLNWd2ZRfWF5/YNfp3sFkykT/Plxe33P4zbKP4rnCvjQu1rlkJ5bv5rFJsGEAaLBhYLtgwwAAHQZJC0BgYBM8AIGBB7sBEBgYHgMQGEhaAAIDSQtAYCBpAQiM+pOWRZmMqh0fqbJdKntYhxK8XA406/jdpfheNd4FEL889SftYheU4Fl9Ly1XzdJQyzKChKp+lxTfq8Y7B5TgHdTx22MZFmdiUSYWU7JElDICTjaxvTlNyNVPkNrN20v1QcRqv08GrvfzVI23Z/zE+u2k2Tlto0rwtk4q66O6dFOBZqXfVym+G6rGOw+U4DUNJq2akzSmBD+gyUzVSS6yfRovVOD9vkjH8PO79qkeAqsjo/geUzXeQKKhpOVFhIaV4HkOa11kvS4piXvj7/cMBcX3qvEWkOx867eF2ue0PP/YFSV4TSR6DHHpHBX9Liq+rxXvdL4q2a2Oa3vprhK8VR8JW6S636ObX1SeJmnVeKsKmaQV7cTy9oMNAwAERrOrxwCAyiBpAQgMbIIHIDDwYDegwYPdtgse7AZAh0HSAhAYSFoAAgNJC0Bg1J+0WqsllT7cvhJ8jLKPhY41wueBAidXlY9s361UdufDqOxl4mcr7vv6X7LrbvzqT9rTepXgmUj+8s1MYLusJF4FTtg7dDlVpBOU3SMsWcufWDBNVtz39b9k1+X41Z+0tSrBR2j5S5ZfNOelnwcS+GZ3Z+8h3b+R7p9xK7t7kshR+vpfsut2/Jqd09atBC8hfV6H4YS9Rp/kelJOljJl90+TIWs0bPZU3Pf1v2TXsfg1mLRqTrJ1JfhkQyeoxFwn5+PbF02y3VIjmVv0up7XSsruA2to7Jr2QHF/UzSUtLyIUIcSvHPndpHC53Wd+GZoDq3sfpM+V71m5gYrKbvH05hTT8V9X/9Ldh2LX/1Jq1cT61KCl+i4kvjaRH5zKsEfX0mHynH5JR62uhT3V8U77b3ddt2OX+1Jqx1M2XkRD2MPjj4m4j8tqPPXb/fp3tGg1J4vlLSMh2BSL6za4CFzPMRT9nxxSZ8Hyjk4ekgHx/GwmVeGzVqC6ulOjT/Z13tHXK6GzHoIHZen9r7+l+y6HD9sGAAabBjYLtgwAECHQdICEBjYBA9AYODBbgAEBobHAAQGkhaAwEDSAhAYSFoAAqP+pK2qDL6OIrkTZd93CUdL5V1ntX+nQ1We+O4s8StTcpfsfOu3j/qTdlGvEjwTyV8WAyuVA8UK/3LCHtLAKNWxGl4aPxWm9EZYNd45oARfpP6kHUxokvxMtEc9HXUWJWbZRF1IffWix/KFfOK0V2TKWW5R1pfV8pcsZ2nOY6RyoCjxL9/sDnszmo9iz/H7afz4xUAlq1bArBrvDJKdb/120uyctm4leFCRon85YYc00f9mUUmTZA0np31ugBL8RmgwadWcpDEleOBH3r+qj5uq5BjvRz7eH6sedkz7/TmNVirrV403kGgoaXkRoQEleLAmsX/jJDaHVtAf0YwXm3gOmymvEL9CvAUkO9/6LaH+pNWrifkA8kXB85TobK5eLHjIo09c9lxsFqQ0XFcFrStRq4H1/aviNBzrea0cv1XxjhcHJbuS+l2Af3u8TZpXgi+2kZH9d5QDhY9/WbW9N1pq0XdBWR9K8JsHGwYACIxmV48BAJVB0gIQGNgED0Bg4MFuQIMHu20XPNgNgA6DpAUgMJC0AAQGkhaAwKg/abVWi5GJUIdbSdxS9vayV8dKUWFlb6uZi+2CPAUleEN1hfh1lNzPWr991J+0p7uhBC+2CzIUlOANfgrxrB+cxvXJESU3TijBr0/9SbsTSvAKqV2Q4FKCZ1zlboV4jksaV7qkXmvxZ18ld8nOt347aXZOuytK8NL36DCcmEUleKmck0hSiLf1a/nm6NCzleKdR7Lzrd8SGkxaNSfZCSX4qt+jC0hK8FfobiWFeJa6HNBJkswX6W7JiAj40VDS8iLCLijBr2q3q0hK8GpKUVUh/sKI7mfs7bgaCvEWkOx867eE+pNWr9o2rQSvENoF6xDFz6kQn6CmMldv6XltqZK7jku8GizZldTvALUnraTsXrcSvNQuWA9RIT75M9BFOrn0MBn9QAl+fbBhAGiwYWC7YMMAAB0GSQtAYGATPACBgQe7ARAYGB4DEBhIWgACA0kLQGAgaQEIjPqTVmu1xOpqZ1GCT8kqkucR2k1Q74t1QdE/tj/5iNQKC+WJyPMq/8dIdr71u0P9SbvYkBK8IatIXqRMMTySxcSFICH7Z6BcGsfECGuxGlYSp1Q5Horvm6f+pN2UEryCL6qsInmeknb5XF1VSyjBi1Tyj1M5vtz/KZKdb/1u0eyc9gxK8JywbkXyEqR2QUXSIWt2usK9LperKLmU+X39L9khfpoGk1YFfm0leEmR/JCmekjnuqDAZrCHxvnpSl453hSDjdJQ0vKduooyeN5eViQf8JDOlBd64UK74GxIQtM8pFU31XyX6Ot/yQ7x09SftHo1+OxK8H6UtAvWYzqkZC2Ipyt67sphcinHr4prvMgl2SF+Tvi3x9tka0rwNrYieQFZMRxK8OU4/aOV2h0+E5Xjofi+abBhAIDAaHb1GABQGSQtAIGBTfAABMY5ntia1wCAAMDwGIDAQNICEBhIWgACA0kLQGAgaQEICqL/AtCUYyoTM42gAAAAAElFTkSuQmCC)"
      ],
      "metadata": {
        "id": "7BNK1A4ponb2"
      }
    },
    {
      "cell_type": "markdown",
      "source": [
        "As we can see, the highest revenue was in during February, May, October, and December. The other months were steady, save for March and September. January 2024 seems uniquely low, but this could be current (incomplete) data."
      ],
      "metadata": {
        "id": "rf7CoYuVATPA"
      }
    },
    {
      "cell_type": "markdown",
      "source": [
        "![image.png](data:image/png;base64,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) ![best selling product categories.png](data:image/png;base64,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)"
      ],
      "metadata": {
        "id": "CYzW6abJ8r7q"
      }
    },
    {
      "cell_type": "markdown",
      "source": [
        "Clothing and Electronics seem to be higher than Beauty."
      ],
      "metadata": {
        "id": "Y6_c3V0VArvA"
      }
    },
    {
      "cell_type": "markdown",
      "source": [
        "Now we can connect to this database here in Python to create some visualizations.\n",
        "\n",
        "\n",
        "\n",
        "\n",
        "We will start by installing and importing all the necessary libraries."
      ],
      "metadata": {
        "id": "c7ys6mCVop3c"
      }
    },
    {
      "cell_type": "code",
      "execution_count": null,
      "metadata": {
        "colab": {
          "base_uri": "https://localhost:8080/"
        },
        "id": "Pqx2MaI0nPyC",
        "outputId": "19609a85-51db-4d2d-bbe0-533efa2f7656"
      },
      "outputs": [
        {
          "output_type": "stream",
          "name": "stdout",
          "text": [
            "Requirement already satisfied: mysql-connector-python in /usr/local/lib/python3.11/dist-packages (9.2.0)\n",
            "Requirement already satisfied: pandas in /usr/local/lib/python3.11/dist-packages (2.2.2)\n",
            "Requirement already satisfied: matplotlib in /usr/local/lib/python3.11/dist-packages (3.10.0)\n",
            "Requirement already satisfied: seaborn in /usr/local/lib/python3.11/dist-packages (0.13.2)\n",
            "Requirement already satisfied: numpy>=1.23.2 in /usr/local/lib/python3.11/dist-packages (from pandas) (1.26.4)\n",
            "Requirement already satisfied: python-dateutil>=2.8.2 in /usr/local/lib/python3.11/dist-packages (from pandas) (2.8.2)\n",
            "Requirement already satisfied: pytz>=2020.1 in /usr/local/lib/python3.11/dist-packages (from pandas) (2025.1)\n",
            "Requirement already satisfied: tzdata>=2022.7 in /usr/local/lib/python3.11/dist-packages (from pandas) (2025.1)\n",
            "Requirement already satisfied: contourpy>=1.0.1 in /usr/local/lib/python3.11/dist-packages (from matplotlib) (1.3.1)\n",
            "Requirement already satisfied: cycler>=0.10 in /usr/local/lib/python3.11/dist-packages (from matplotlib) (0.12.1)\n",
            "Requirement already satisfied: fonttools>=4.22.0 in /usr/local/lib/python3.11/dist-packages (from matplotlib) (4.56.0)\n",
            "Requirement already satisfied: kiwisolver>=1.3.1 in /usr/local/lib/python3.11/dist-packages (from matplotlib) (1.4.8)\n",
            "Requirement already satisfied: packaging>=20.0 in /usr/local/lib/python3.11/dist-packages (from matplotlib) (24.2)\n",
            "Requirement already satisfied: pillow>=8 in /usr/local/lib/python3.11/dist-packages (from matplotlib) (11.1.0)\n",
            "Requirement already satisfied: pyparsing>=2.3.1 in /usr/local/lib/python3.11/dist-packages (from matplotlib) (3.2.1)\n",
            "Requirement already satisfied: six>=1.5 in /usr/local/lib/python3.11/dist-packages (from python-dateutil>=2.8.2->pandas) (1.17.0)\n"
          ]
        }
      ],
      "source": [
        "pip install mysql-connector-python pandas matplotlib seaborn"
      ]
    },
    {
      "cell_type": "code",
      "source": [
        "import mysql.connector\n",
        "import pandas as pd\n",
        "import matplotlib.pyplot as plt\n",
        "import seaborn as sns\n",
        "import os\n",
        "from dotenv import load_dotenv\n",
        "\n",
        "# Load environment variables\n",
        "load_dotenv()\n"
      ],
      "metadata": {
        "id": "zxPf6EsXo3wN"
      },
      "execution_count": null,
      "outputs": []
    },
    {
      "cell_type": "markdown",
      "source": [
        "We will now connect to the MySQL database. (Note: this will not work in Google Colab - you should use a Python IDE like PyCharm.)"
      ],
      "metadata": {
        "id": "A_oF68598Uko"
      }
    },
    {
      "cell_type": "code",
      "source": [
        "db = mysql.connector.connect(\n",
        "    host=os.getenv(\"MYSQL_HOST\"),\n",
        "    user=os.getenv(\"MYSQL_USER\"),\n",
        "    password=os.getenv(\"MYSQL_PASSWORD\"),\n",
        "    database=\"sales_analysis\"\n",
        ")\n",
        "cursor = db.cursor()\n"
      ],
      "metadata": {
        "id": "kZ1woNgfpqH4"
      },
      "execution_count": null,
      "outputs": []
    },
    {
      "cell_type": "code",
      "source": [
        "# Query: Total Revenue by Month\n",
        "query = \"\"\"\n",
        "SELECT DATE_FORMAT(date_, '%Y-%m') AS month, SUM(Total_Amount) AS total_revenue\n",
        "FROM sales\n",
        "GROUP BY month\n",
        "ORDER BY month;\n",
        "\"\"\"\n",
        "cursor.execute(query)\n",
        "data = cursor.fetchall()\n",
        "\n",
        "# Convert to DataFrame\n",
        "df = pd.DataFrame(data, columns=[\"Month\", \"Total Revenue\"])\n",
        "\n",
        "# Plot Revenue Trend\n",
        "plt.figure(figsize=(10,5))\n",
        "sns.lineplot(data=df, x=\"Month\", y=\"Total Revenue\", marker=\"o\")\n",
        "plt.xticks(rotation=45)\n",
        "plt.title(\"Monthly Revenue Trends\")\n",
        "plt.xlabel(\"Month\")\n",
        "plt.ylabel(\"Total Revenue\")\n",
        "plt.grid(True)\n",
        "plt.show()\n",
        "\n",
        "# Close connection\n",
        "cursor.close()\n",
        "db.close()"
      ],
      "metadata": {
        "id": "-2DdsBQB-5iD"
      },
      "execution_count": null,
      "outputs": []
    },
    {
      "cell_type": "markdown",
      "source": [
        "If desired, you can play around with different columns to create different visualizations."
      ],
      "metadata": {
        "id": "f8Qd9Y9o_8ZP"
      }
    }
  ]
}